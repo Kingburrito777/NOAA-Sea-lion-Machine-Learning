{
 "cells": [
  {
   "cell_type": "code",
   "execution_count": 11,
   "metadata": {
    "collapsed": false,
    "deletable": true,
    "editable": true
   },
   "outputs": [],
   "source": [
    "import numpy as np\n",
    "import pandas as pd\n",
    "import os\n",
    "import cv2\n",
    "import matplotlib.pyplot as plt\n",
    "import keras\n",
    "import h5py\n",
    "from keras.models import load_model, Sequential\n",
    "from collections import Counter\n",
    "%matplotlib inline"
   ]
  },
  {
   "cell_type": "code",
   "execution_count": 12,
   "metadata": {
    "collapsed": true,
    "deletable": true,
    "editable": true
   },
   "outputs": [],
   "source": [
    "file_names = os.listdir('/media/liam/harddrive2/NOAA_Sea_Lions/input/Test')\n",
    "file_names = sorted(file_names, key=lambda \n",
    "                    item: (int(item.partition('.')[0]) if item[0].isdigit() else float('inf'), item)) \n",
    "write_dir = 'submissions.csv'\n",
    "columns=[\"adult_males\", \"subadult_males\", \"adult_females\", \"juveniles\", \"pups\", \"negative\"]"
   ]
  },
  {
   "cell_type": "code",
   "execution_count": null,
   "metadata": {
    "collapsed": true
   },
   "outputs": [],
   "source": [
    "sub = pd.DataFrame(columns=columns, index=file_names)\n",
    "\n",
    "model = Sequential()\n",
    "\n",
    "model = load_model('NOAA.h5')"
   ]
  },
  {
   "cell_type": "code",
   "execution_count": null,
   "metadata": {
    "collapsed": true,
    "deletable": true,
    "editable": true
   },
   "outputs": [],
   "source": [
    "for fname in file_names[:1]:\n",
    "    \n",
    "    x_test = []\n",
    "    \n",
    "    img = cv2.imread(\"/media/liam/harddrive2/NOAA_Sea_Lions/input/Test/\" + fname)\n",
    "    \n",
    "    for i in range(0,np.shape(img)[0],64):\n",
    "        \n",
    "        for j in range(0,np.shape(img)[1],64):                \n",
    "            \n",
    "            thumb = img[ i:i+64, j:j+64, :]        \n",
    "            \n",
    "            if np.shape(thumb) == (64,64,3):\n",
    "                \n",
    "                x_test.append(thumb)\n",
    "\n",
    "                \n",
    "    x_test = np.array(x_test)\n",
    "\n",
    "    y_predicted = model.predict(x_test, verbose=0)\n",
    "\n",
    "    y_predicted = encoder.inverse_transform(y_predicted)\n",
    "\n",
    "    sub.append(Counter(y_predicted).items())"
   ]
  }
 ],
 "metadata": {
  "kernelspec": {
   "display_name": "Python 3",
   "language": "python",
   "name": "python3"
  },
  "language_info": {
   "codemirror_mode": {
    "name": "ipython",
    "version": 3
   },
   "file_extension": ".py",
   "mimetype": "text/x-python",
   "name": "python",
   "nbconvert_exporter": "python",
   "pygments_lexer": "ipython3",
   "version": "3.5.2"
  }
 },
 "nbformat": 4,
 "nbformat_minor": 2
}
