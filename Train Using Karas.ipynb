{
 "cells": [
  {
   "cell_type": "markdown",
   "metadata": {
    "_cell_guid": "7daa5a37-ea6b-2274-4bc1-fadb0a2fc41a",
    "deletable": true,
    "editable": true
   },
   "source": [
    "# Load Dependencies and initialize variables"
   ]
  },
  {
   "cell_type": "code",
   "execution_count": 1,
   "metadata": {
    "_cell_guid": "35cabbd8-8e7b-5be7-bd00-61b1addc2d75",
    "collapsed": false,
    "deletable": true,
    "editable": true
   },
   "outputs": [
    {
     "name": "stderr",
     "output_type": "stream",
     "text": [
      "Using TensorFlow backend.\n"
     ]
    },
    {
     "name": "stdout",
     "output_type": "stream",
     "text": [
      "2.0.3\n"
     ]
    }
   ],
   "source": [
    "import numpy as np\n",
    "import pandas as pd\n",
    "import os\n",
    "import cv2\n",
    "import matplotlib.pyplot as plt\n",
    "from sklearn.model_selection import train_test_split\n",
    "from sklearn.preprocessing import LabelBinarizer\n",
    "import keras\n",
    "from keras.optimizers import SGD\n",
    "from keras.models import Sequential, load_model\n",
    "from keras.layers import Dense, Dropout, Activation, Flatten, Conv2D, Lambda, Cropping2D, MaxPooling2D\n",
    "from keras.utils import np_utils\n",
    "from collections import Counter\n",
    "%matplotlib inline\n",
    "print(keras.__version__)"
   ]
  },
  {
   "cell_type": "code",
   "execution_count": 2,
   "metadata": {
    "_cell_guid": "3a6329c7-aa3b-b576-b6e1-d675e6e8fbf2",
    "collapsed": false,
    "deletable": true,
    "editable": true
   },
   "outputs": [],
   "source": [
    "# define classes\n",
    "classes = [\"adult_males\", \"subadult_males\", \"adult_females\", \"juveniles\", \"pups\"]\n",
    "classes_with_negative = [\"adult_males\", \"subadult_males\", \"adult_females\", \"juveniles\", \"pups\", \"negative\"]\n",
    "\n",
    "file_names = os.listdir('/input/Train/')\n",
    "file_names = sorted(file_names, key=lambda \n",
    "                    item: (int(item.partition('.')[0]) if item[0].isdigit() else float('inf'), item)) \n",
    "\n",
    "write_dir = 'submission.csv'\n",
    "\n",
    "# dataframe to grab coords fromimg = cv2.imread(direct+\"/input/Train/6.jpg\")\n",
    "\n",
    "coords = pd.read_csv('coords.csv')"
   ]
  },
  {
   "cell_type": "markdown",
   "metadata": {
    "deletable": true,
    "editable": true
   },
   "source": [
    "# Re-arrange sea-lion classes"
   ]
  },
  {
   "cell_type": "code",
   "execution_count": 3,
   "metadata": {
    "collapsed": false,
    "deletable": true,
    "editable": true
   },
   "outputs": [],
   "source": [
    "#removing into their own classes\n",
    "adult_males = coords[coords.klass == 0]\n",
    "subadult_males = coords[coords.klass == 1]\n",
    "adult_females = coords[coords.klass == 2]\n",
    "juveniles = coords[coords.klass == 3]\n",
    "pups = coords[coords.klass == 4]\n",
    "\n",
    "#removing the klass column since its the class value\n",
    "adult_males = adult_males.drop('klass', axis=1)\n",
    "adult_females = adult_females.drop('klass', axis=1)\n",
    "subadult_males = subadult_males.drop('klass', axis=1)\n",
    "juveniles = juveniles.drop('klass', axis=1)\n",
    "pups = pups.drop('klass', axis=1)\n",
    "\n",
    "#create new df to modify\n",
    "coords_df = pd.DataFrame(index=file_names,columns=classes)"
   ]
  },
  {
   "cell_type": "code",
   "execution_count": 4,
   "metadata": {
    "collapsed": false,
    "deletable": true,
    "editable": true
   },
   "outputs": [],
   "source": [
    "tmpcls = {'adult_males': adult_males, 'subadult_males': subadult_males,\n",
    "        'adult_females': adult_females, 'juveniles': juveniles,\n",
    "        'pups':pups}\n",
    "catted = pd.concat(tmpcls)\n",
    "\n",
    "g = catted.groupby(['image_id', pd.Grouper(level=0)])[['x', 'y']]\n",
    "coords_df = g.apply(lambda x: list(zip(*x.values.T))).unstack()\n",
    "\n",
    "indexer = []\n",
    "for i in coords_df.index:\n",
    "    indexer.append(str(i)+'.jpg')\n",
    "\n",
    "coords_df.index = indexer\n",
    "\n",
    "coords_df.fillna('[]', inplace=True)"
   ]
  },
  {
   "cell_type": "markdown",
   "metadata": {
    "deletable": true,
    "editable": true
   },
   "source": [
    "# Making into useable form"
   ]
  },
  {
   "cell_type": "code",
   "execution_count": 5,
   "metadata": {
    "collapsed": false,
    "deletable": true,
    "editable": true
   },
   "outputs": [],
   "source": [
    "x = []\n",
    "y = []\n",
    "\n",
    "#Track errors\n",
    "\n",
    "for fname in coords_df.index[:55]:\n",
    "    # Read currnt File\n",
    "    image_2 = cv2.imread(\"/input/Train/\" + fname)\n",
    "    #copy image2 (undotted)\n",
    "    cut = np.copy(image_2)\n",
    "    #Checks off, works fine\n",
    "    \n",
    "    # Iterate through\n",
    "    try:\n",
    "        for lion_class in classes:\n",
    "\n",
    "            for coordinates in coords_df[lion_class][fname]:\n",
    "\n",
    "                thumb = image_2[ coordinates[1]-16 : coordinates[1]+16 , coordinates[0]-16 : coordinates[0]+16, : ]\n",
    "\n",
    "                if np.shape(thumb) == (32, 32, 3):\n",
    "\n",
    "                    x.append(thumb)\n",
    "\n",
    "                    y.append(lion_class)\n",
    "                \n",
    "    except (IndexError):\n",
    "        pass\n",
    "    \n",
    "    # Adding Negative Values to arrays: x and y\n",
    "    for i in range(0,np.shape(cut)[0],112):\n",
    "        \n",
    "        for j in range(0,np.shape(cut)[1],112):                \n",
    "            \n",
    "            thumb = cut[ i:i+32, j:j+32, :]\n",
    "            \n",
    "            if np.amin(cv2.cvtColor(thumb, cv2.COLOR_BGR2GRAY)) != 0:\n",
    "                \n",
    "                if np.shape(thumb) == (32,32,3):\n",
    "                    \n",
    "                    x.append(thumb)\n",
    "                    \n",
    "                    y.append(\"negative\")\n",
    "x = np.array(x)\n",
    "y = np.array(y)"
   ]
  },
  {
   "cell_type": "code",
   "execution_count": 6,
   "metadata": {
    "collapsed": false,
    "deletable": true,
    "editable": true
   },
   "outputs": [],
   "source": [
    "def ifErrors():\n",
    "    print('In file: ', tpp) \n",
    "    print('At class: ',qpp)\n",
    "    print('With coords: \\n' , coords_df.ix[tpp][qpp])\n",
    "    print('last error at coords: ' ,epp)\n",
    "    plt.imshow(x[len(x)-1])"
   ]
  },
  {
   "cell_type": "markdown",
   "metadata": {
    "deletable": true,
    "editable": true
   },
   "source": [
    "# ML! Using Keras\n",
    "---\n",
    "Tensorflow backend"
   ]
  },
  {
   "cell_type": "code",
   "execution_count": 15,
   "metadata": {
    "collapsed": false,
    "deletable": true,
    "editable": true
   },
   "outputs": [],
   "source": [
    "encoder = LabelBinarizer()\n",
    "encoder.fit(y)\n",
    "y = encoder.transform(y).astype(float)\n",
    "#y = label_binarize(y, classes=classes)"
   ]
  },
  {
   "cell_type": "code",
   "execution_count": 16,
   "metadata": {
    "collapsed": false,
    "deletable": true,
    "editable": true
   },
   "outputs": [],
   "source": [
    "model = Sequential()\n",
    "\n",
    "model.add(Lambda(lambda x: (x / 255.0) - 0.5, input_shape=(32,32,3)))\n",
    "\n",
    "model.add(Conv2D(64, (3, 3), activation='relu', name='conv1_1', padding='same'))\n",
    "model.add(Conv2D(64, (3, 3), activation='relu', name='conv1_2', padding='same'))\n",
    "model.add(MaxPooling2D((2, 2), strides=(2, 2)))\n",
    "\n",
    "model.add(Conv2D(128, (3, 3), activation='relu', name='conv2_1', padding='same'))\n",
    "model.add(Conv2D(128, (3, 3), activation='relu', name='conv2_2', padding='same'))\n",
    "model.add(MaxPooling2D((2, 2), strides=(2, 2)))\n",
    "\n",
    "model.add(Conv2D(256, (3, 3), activation='relu', name='conv3_1', padding='same'))\n",
    "model.add(Conv2D(256, (3, 3), activation='relu', name='conv3_2', padding='same'))\n",
    "model.add(Conv2D(256, (3, 3), activation='relu', name='conv3_3', padding='same'))\n",
    "model.add(MaxPooling2D((2, 2), strides=(2, 2)))\n",
    "\n",
    "model.add(Conv2D(512, (3, 3), activation='relu', name='conv4_1', padding='same'))\n",
    "model.add(Conv2D(512, (3, 3), activation='relu', name='conv4_2', padding='same'))\n",
    "model.add(Conv2D(512, (3, 3), activation='relu', name='conv4_3', padding='same'))\n",
    "model.add(MaxPooling2D((2, 2), strides=(2, 2)))\n",
    "\n",
    "model.add(Conv2D(512, (3, 3), activation='relu', name='conv5_1', padding='same'))\n",
    "model.add(Conv2D(512, (3, 3), activation='relu', name='conv5_2', padding='same'))\n",
    "model.add(Conv2D(512, (3, 3), activation='relu', name='conv5_3', padding='same'))\n",
    "model.add(MaxPooling2D((2, 2), strides=(2, 2)))\n",
    "\n",
    "model.add(Flatten())\n",
    "\n",
    "model.add(Dense(512, activation='relu'))\n",
    "model.add(Dropout(0.5))\n",
    "model.add(Dense(6, activation='softmax'))\n",
    "\n",
    "sgd = SGD(lr=0.02, decay=1e-6, momentum=0.6, nesterov=True)\n",
    "\n",
    "model.compile(optimizer=sgd, loss='categorical_crossentropy', metrics=['accuracy'])"
   ]
  },
  {
   "cell_type": "code",
   "execution_count": null,
   "metadata": {
    "collapsed": false,
    "deletable": true,
    "editable": true
   },
   "outputs": [
    {
     "name": "stdout",
     "output_type": "stream",
     "text": [
      "Train on 69620 samples, validate on 17406 samples\n",
      "Epoch 1/15\n",
      "190s - loss: 0.2110 - acc: 0.9522 - val_loss: 0.2179 - val_acc: 0.9489\n",
      "Epoch 2/15\n",
      "189s - loss: 0.1412 - acc: 0.9599 - val_loss: 0.1815 - val_acc: 0.9478\n",
      "Epoch 3/15\n",
      "189s - loss: 0.1364 - acc: 0.9608 - val_loss: 0.1741 - val_acc: 0.9479\n",
      "Epoch 4/15\n"
     ]
    }
   ],
   "source": [
    "history = model.fit(x, y, epochs=15,\n",
    "                    validation_split=0.2,\n",
    "                    verbose=2)"
   ]
  },
  {
   "cell_type": "code",
   "execution_count": null,
   "metadata": {
    "collapsed": true
   },
   "outputs": [],
   "source": [
    "model.save('NOAA_MODEL.h5')"
   ]
  },
  {
   "cell_type": "code",
   "execution_count": null,
   "metadata": {
    "collapsed": false,
    "deletable": true,
    "editable": true
   },
   "outputs": [],
   "source": [
    "plt.plot(history.history['acc'])\n",
    "plt.plot(history.history['val_acc'])\n",
    "plt.title('model accuracy')\n",
    "plt.ylabel('accuracy')\n",
    "plt.xlabel('epoch')\n",
    "plt.legend(['train', 'test'], loc='upper left')\n",
    "plt.show()\n",
    "# summarize history for loss\n",
    "plt.plot(history.history['loss'])\n",
    "plt.plot(history.history['val_loss'])\n",
    "plt.title('model loss')\n",
    "plt.ylabel('loss')\n",
    "plt.xlabel('epoch')\n",
    "plt.legend(['train', 'test'], loc='upper left')\n",
    "plt.show()"
   ]
  },
  {
   "cell_type": "markdown",
   "metadata": {
    "deletable": true,
    "editable": true
   },
   "source": [
    "This cell is not yet ready \n",
    "\n",
    "\n",
    "for fname in test_files:\n",
    "    img = cv2.imread( direct + 'input/Test/' + fname)\n",
    "    \n",
    "    x_test = "
   ]
  },
  {
   "cell_type": "code",
   "execution_count": null,
   "metadata": {
    "collapsed": false,
    "deletable": true,
    "editable": true
   },
   "outputs": [],
   "source": [
    "img = cv2.imread(\"/input/Train/14.jpg\")\n",
    "\n",
    "x_test = []\n",
    "\n",
    "for i in range(0,np.shape(img)[0],32):\n",
    "    for j in range(0,np.shape(img)[1],32):                \n",
    "        thumb = img[ i:i+32, j:j+32, :]        \n",
    "        if np.shape(thumb) == (32,32,3):\n",
    "            x_test.append(thumb)\n",
    "\n",
    "x_test = np.array(x_test)"
   ]
  },
  {
   "cell_type": "code",
   "execution_count": null,
   "metadata": {
    "collapsed": true,
    "deletable": true,
    "editable": true
   },
   "outputs": [],
   "source": [
    "y_predicted = model.predict(x_test, verbose=0)"
   ]
  },
  {
   "cell_type": "code",
   "execution_count": null,
   "metadata": {
    "collapsed": false,
    "deletable": true,
    "editable": true
   },
   "outputs": [],
   "source": [
    "y_predicted = encoder.inverse_transform(y_predicted)"
   ]
  },
  {
   "cell_type": "code",
   "execution_count": null,
   "metadata": {
    "collapsed": false,
    "deletable": true,
    "editable": true
   },
   "outputs": [],
   "source": [
    "print(Counter(y_predicted).items())"
   ]
  },
  {
   "cell_type": "code",
   "execution_count": null,
   "metadata": {
    "collapsed": false,
    "deletable": true,
    "editable": true
   },
   "outputs": [],
   "source": [
    "reference = pd.read_csv('/input/train.csv')\n",
    "reference.ix[14]"
   ]
  },
  {
   "cell_type": "code",
   "execution_count": null,
   "metadata": {
    "collapsed": true
   },
   "outputs": [],
   "source": []
  }
 ],
 "metadata": {
  "_change_revision": 28,
  "_is_fork": false,
  "kernelspec": {
   "display_name": "Python 3",
   "language": "python",
   "name": "python3"
  },
  "language_info": {
   "codemirror_mode": {
    "name": "ipython",
    "version": 3
   },
   "file_extension": ".py",
   "mimetype": "text/x-python",
   "name": "python",
   "nbconvert_exporter": "python",
   "pygments_lexer": "ipython3",
   "version": "3.5.3"
  }
 },
 "nbformat": 4,
 "nbformat_minor": 0
}
